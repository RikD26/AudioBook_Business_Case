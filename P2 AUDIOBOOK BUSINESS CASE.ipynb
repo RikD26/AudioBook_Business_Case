{
 "cells": [
  {
   "cell_type": "code",
   "execution_count": 1,
   "id": "4eddc8ac",
   "metadata": {},
   "outputs": [],
   "source": [
    "import numpy as np\n",
    "from sklearn import preprocessing\n",
    "import tensorflow as tf\n",
    "\n",
    "#import the Audiobooks_data.csv file
    "\n",
    "unscaled_inputs_all=raw_csv_data[:, 1:-1]\n",
    "targets_all=raw_csv_data[:,-1]"
   ]
  },
  {
   "cell_type": "code",
   "execution_count": 6,
   "id": "3109c531",
   "metadata": {},
   "outputs": [],
   "source": [
    "num_one_targets=int(np.sum(targets_all))\n",
    "zero_targets_counter=0\n",
    "indices_to_remove=[]\n",
    "for i in range(targets_all.shape[0]):\n",
    "    if targets_all[i]==0:\n",
    "        zero_targets_counter+=1\n",
    "        if zero_targets_counter>num_one_targets:\n",
    "            indices_to_remove.append(i)\n",
    "unscaled_inputs_equal_priors = np.delete(unscaled_inputs_all, indices_to_remove, axis=0)\n",
    "targets_equal_priors=np.delete(targets_all, indices_to_remove, axis=0)"
   ]
  },
  {
   "cell_type": "code",
   "execution_count": 7,
   "id": "b6cd10fc",
   "metadata": {},
   "outputs": [],
   "source": [
    "scaled_inputs=preprocessing.scale(unscaled_inputs_equal_priors)"
   ]
  },
  {
   "cell_type": "code",
   "execution_count": 98,
   "id": "bfa9b499",
   "metadata": {},
   "outputs": [
    {
     "name": "stdout",
     "output_type": "stream",
     "text": [
      "1781.0 3579 49.7625034925957\n",
      "229.0 447 51.230425055928414\n",
      "227.0 448 50.669642857142854\n"
     ]
    }
   ],
   "source": [
    "shuffled_indices=np.arange(scaled_inputs.shape[0])\n",
    "np.random.shuffle(shuffled_indices)\n",
    "\n",
    "shuffled_inputs = scaled_inputs[shuffled_indices]\n",
    "shuffled_targets = targets_equal_priors[shuffled_indices]\n",
    "\n",
    "samples_count=shuffled_inputs.shape[0]\n",
    "\n",
    "train_samples_count=int(0.8*samples_count)\n",
    "validation_samples_count=int(0.1*samples_count)\n",
    "test_samples_count=samples_count-train_samples_count-validation_samples_count\n",
    "\n",
    "train_inputs=shuffled_inputs[:train_samples_count]\n",
    "train_targets=shuffled_targets[:train_samples_count]\n",
    "\n",
    "validation_inputs=shuffled_inputs[train_samples_count:train_samples_count+validation_samples_count]\n",
    "validation_targets=shuffled_targets[train_samples_count:train_samples_count+validation_samples_count]\n",
    "\n",
    "test_inputs=shuffled_inputs[train_samples_count+validation_samples_count:]\n",
    "test_targets=shuffled_targets[train_samples_count+validation_samples_count:]\n",
    "\n",
    "print(np.sum(train_targets), train_samples_count, np.sum(train_targets)*100/train_samples_count)\n",
    "print(np.sum(validation_targets), validation_samples_count, np.sum(validation_targets)*100/validation_samples_count)\n",
    "print(np.sum(test_targets), test_samples_count, np.sum(test_targets)*100/test_samples_count)"
   ]
  },
  {
   "cell_type": "code",
   "execution_count": 99,
   "id": "384c685b",
   "metadata": {},
   "outputs": [],
   "source": [
    "np.savez(\"Audiobooks_data_train\", inputs=train_inputs, targets=train_targets)\n",
    "np.savez(\"Audiobooks_data_test\", inputs=test_inputs, targets=test_targets)\n",
    "np.savez(\"Audiobooks_data_validation\", inputs=validation_inputs, targets=validation_targets)"
   ]
  },
  {
   "cell_type": "code",
   "execution_count": 100,
   "id": "ba1408f0",
   "metadata": {},
   "outputs": [],
   "source": [
    "npz=np.load(\"Audiobooks_data_train.npz\")\n",
    "train_inputs=npz['inputs'].astype(float)\n",
    "train_targets=npz['targets'].astype(int)\n",
    "\n",
    "npz=np.load(\"Audiobooks_data_validation.npz\")\n",
    "validation_inputs=npz['inputs'].astype(float)\n",
    "validation_targets=npz['targets'].astype(int)\n",
    "\n",
    "npz=np.load(\"Audiobooks_data_test.npz\")\n",
    "test_inputs=npz['inputs'].astype(float)\n",
    "test_targets=npz['targets'].astype(int)"
   ]
  },
  {
   "cell_type": "code",
   "execution_count": 101,
   "id": "c7218005",
   "metadata": {},
   "outputs": [
    {
     "name": "stdout",
     "output_type": "stream",
     "text": [
      "Epoch 1/100\n",
      "36/36 - 1s - loss: 0.6060 - accuracy: 0.6577 - val_loss: 0.5070 - val_accuracy: 0.7494\n",
      "Epoch 2/100\n",
      "36/36 - 0s - loss: 0.4828 - accuracy: 0.7583 - val_loss: 0.4200 - val_accuracy: 0.7763\n",
      "Epoch 3/100\n",
      "36/36 - 0s - loss: 0.4214 - accuracy: 0.7921 - val_loss: 0.3785 - val_accuracy: 0.8054\n",
      "Epoch 4/100\n",
      "36/36 - 0s - loss: 0.3904 - accuracy: 0.7913 - val_loss: 0.3544 - val_accuracy: 0.8210\n",
      "Epoch 5/100\n",
      "36/36 - 0s - loss: 0.3745 - accuracy: 0.8047 - val_loss: 0.3442 - val_accuracy: 0.8188\n",
      "Epoch 6/100\n",
      "36/36 - 0s - loss: 0.3632 - accuracy: 0.8075 - val_loss: 0.3393 - val_accuracy: 0.8098\n",
      "Epoch 7/100\n",
      "36/36 - 0s - loss: 0.3553 - accuracy: 0.8125 - val_loss: 0.3326 - val_accuracy: 0.8121\n",
      "Epoch 8/100\n",
      "36/36 - 0s - loss: 0.3528 - accuracy: 0.8083 - val_loss: 0.3314 - val_accuracy: 0.8143\n",
      "Epoch 9/100\n",
      "36/36 - 0s - loss: 0.3489 - accuracy: 0.8153 - val_loss: 0.3225 - val_accuracy: 0.8300\n",
      "Epoch 10/100\n",
      "36/36 - 0s - loss: 0.3453 - accuracy: 0.8122 - val_loss: 0.3125 - val_accuracy: 0.8367\n",
      "Epoch 11/100\n",
      "36/36 - 0s - loss: 0.3406 - accuracy: 0.8148 - val_loss: 0.3244 - val_accuracy: 0.8277\n",
      "Epoch 12/100\n",
      "36/36 - 0s - loss: 0.3383 - accuracy: 0.8170 - val_loss: 0.3257 - val_accuracy: 0.8009\n"
     ]
    },
    {
     "data": {
      "text/plain": [
       "<keras.callbacks.History at 0x252594c6fd0>"
      ]
     },
     "execution_count": 101,
     "metadata": {},
     "output_type": "execute_result"
    }
   ],
   "source": [
    "input_size=10\n",
    "output_size=2\n",
    "hidden_layer_size=50\n",
    "model=tf.keras.Sequential([\n",
    "                            tf.keras.layers.Dense(hidden_layer_size, activation='relu'),\n",
    "                            tf.keras.layers.Dense(hidden_layer_size, activation='relu'),\n",
    "                            tf.keras.layers.Dense(output_size, activation='softmax')\n",
    "                          ])\n",
    "model.compile(optimizer='adam', loss='sparse_categorical_crossentropy', metrics=['accuracy'])\n",
    "batch_size=100\n",
    "max_epochs=100\n",
    "early_stopping=tf.keras.callbacks.EarlyStopping(patience=2)\n",
    "\n",
    "model.fit(train_inputs, \n",
    "          train_targets,\n",
    "         batch_size=batch_size,\n",
    "         epochs=max_epochs,\n",
    "         callbacks=[early_stopping],\n",
    "         validation_data=(validation_inputs, validation_targets),\n",
    "         verbose=2)"
   ]
  },
  {
   "cell_type": "code",
   "execution_count": 102,
   "id": "1e9b5f73",
   "metadata": {},
   "outputs": [
    {
     "name": "stdout",
     "output_type": "stream",
     "text": [
      "14/14 [==============================] - 0s 3ms/step - loss: 0.3437 - accuracy: 0.8147\n",
      "Test loss= 0.34. Test accuracy= 81.47%\n"
     ]
    }
   ],
   "source": [
    "test_loss, test_accuracy=model.evaluate(test_inputs, test_targets)\n",
    "print(\"Test loss= {0:.2f}. Test accuracy= {1:.2f}%\".format(test_loss, test_accuracy*100.))"
   ]
  },
  {
   "cell_type": "code",
   "execution_count": null,
   "id": "1dbb3395",
   "metadata": {},
   "outputs": [],
   "source": []
  }
 ],
 "metadata": {
  "kernelspec": {
   "display_name": "Python 3 (ipykernel)",
   "language": "python",
   "name": "python3"
  },
  "language_info": {
   "codemirror_mode": {
    "name": "ipython",
    "version": 3
   },
   "file_extension": ".py",
   "mimetype": "text/x-python",
   "name": "python",
   "nbconvert_exporter": "python",
   "pygments_lexer": "ipython3",
   "version": "3.9.7"
  }
 },
 "nbformat": 4,
 "nbformat_minor": 5
}
